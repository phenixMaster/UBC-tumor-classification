{
 "cells": [
  {
   "cell_type": "markdown",
   "id": "f58c76a2",
   "metadata": {
    "papermill": {
     "duration": 0.010333,
     "end_time": "2023-12-10T19:42:24.116660",
     "exception": false,
     "start_time": "2023-12-10T19:42:24.106327",
     "status": "completed"
    },
    "tags": []
   },
   "source": [
    "The challenge in this competition is to classify the type of ovarian cancer from microscopy scans of biopsy samples.\n"
   ]
  },
  {
   "cell_type": "markdown",
   "id": "3cb1af61",
   "metadata": {
    "papermill": {
     "duration": 0.009422,
     "end_time": "2023-12-10T19:42:24.135947",
     "exception": false,
     "start_time": "2023-12-10T19:42:24.126525",
     "status": "completed"
    },
    "tags": []
   },
   "source": [
    "### TASK : image classification (multiclass)"
   ]
  },
  {
   "cell_type": "markdown",
   "id": "6d640ea3",
   "metadata": {
    "papermill": {
     "duration": 0.00939,
     "end_time": "2023-12-10T19:42:24.154974",
     "exception": false,
     "start_time": "2023-12-10T19:42:24.145584",
     "status": "completed"
    },
    "tags": []
   },
   "source": [
    "### Setup and Imports\n",
    "\n"
   ]
  },
  {
   "cell_type": "code",
   "execution_count": 1,
   "id": "a1c8e4ce",
   "metadata": {
    "execution": {
     "iopub.execute_input": "2023-12-10T19:42:24.175877Z",
     "iopub.status.busy": "2023-12-10T19:42:24.175498Z",
     "iopub.status.idle": "2023-12-10T19:42:24.186481Z",
     "shell.execute_reply": "2023-12-10T19:42:24.185591Z"
    },
    "papermill": {
     "duration": 0.023745,
     "end_time": "2023-12-10T19:42:24.188314",
     "exception": false,
     "start_time": "2023-12-10T19:42:24.164569",
     "status": "completed"
    },
    "tags": []
   },
   "outputs": [
    {
     "name": "stdout",
     "output_type": "stream",
     "text": [
      "\u0007"
     ]
    }
   ],
   "source": [
    "import sys\n",
    "sys.stdout.write('\\a')\n",
    "sys.stdout.flush()"
   ]
  },
  {
   "cell_type": "code",
   "execution_count": 2,
   "id": "780adbee",
   "metadata": {
    "execution": {
     "iopub.execute_input": "2023-12-10T19:42:24.209456Z",
     "iopub.status.busy": "2023-12-10T19:42:24.208809Z",
     "iopub.status.idle": "2023-12-10T19:42:24.212619Z",
     "shell.execute_reply": "2023-12-10T19:42:24.211815Z"
    },
    "papermill": {
     "duration": 0.016241,
     "end_time": "2023-12-10T19:42:24.214466",
     "exception": false,
     "start_time": "2023-12-10T19:42:24.198225",
     "status": "completed"
    },
    "tags": []
   },
   "outputs": [],
   "source": [
    "#!pip install scikit_learn"
   ]
  },
  {
   "cell_type": "code",
   "execution_count": 3,
   "id": "ff488201",
   "metadata": {
    "execution": {
     "iopub.execute_input": "2023-12-10T19:42:24.235628Z",
     "iopub.status.busy": "2023-12-10T19:42:24.235339Z",
     "iopub.status.idle": "2023-12-10T19:42:39.332686Z",
     "shell.execute_reply": "2023-12-10T19:42:39.331916Z"
    },
    "papermill": {
     "duration": 15.110658,
     "end_time": "2023-12-10T19:42:39.335065",
     "exception": false,
     "start_time": "2023-12-10T19:42:24.224407",
     "status": "completed"
    },
    "tags": []
   },
   "outputs": [
    {
     "name": "stderr",
     "output_type": "stream",
     "text": [
      "/opt/conda/lib/python3.10/site-packages/scipy/__init__.py:146: UserWarning: A NumPy version >=1.16.5 and <1.23.0 is required for this version of SciPy (detected version 1.23.5\n",
      "  warnings.warn(f\"A NumPy version >={np_minversion} and <{np_maxversion}\"\n"
     ]
    },
    {
     "name": "stdout",
     "output_type": "stream",
     "text": [
      "Using TensorFlow backend\n"
     ]
    }
   ],
   "source": [
    "import tensorflow as tf \n",
    "import tensorflow_hub as hub\n",
    "from tensorflow import keras\n",
    "from tensorflow.keras.applications.inception_v3 import InceptionV3\n",
    "from tensorflow.keras.preprocessing import image\n",
    "from tensorflow.keras.models import Model\n",
    "from tensorflow.keras.layers import Dense, GlobalAveragePooling2D\n",
    "import keras_cv\n",
    "import pandas as pd\n",
    "import datasets \n",
    "import numpy as np \n",
    "import sklearn as skl"
   ]
  },
  {
   "cell_type": "markdown",
   "id": "39cc5143",
   "metadata": {
    "papermill": {
     "duration": 0.010019,
     "end_time": "2023-12-10T19:42:39.355628",
     "exception": false,
     "start_time": "2023-12-10T19:42:39.345609",
     "status": "completed"
    },
    "tags": []
   },
   "source": [
    "=pretrained model =  \n",
    "microsoft/resnet-18\"\n",
    "\n"
   ]
  },
  {
   "cell_type": "code",
   "execution_count": 4,
   "id": "46045a92",
   "metadata": {
    "execution": {
     "iopub.execute_input": "2023-12-10T19:42:39.377523Z",
     "iopub.status.busy": "2023-12-10T19:42:39.376899Z",
     "iopub.status.idle": "2023-12-10T19:42:39.395685Z",
     "shell.execute_reply": "2023-12-10T19:42:39.394983Z"
    },
    "papermill": {
     "duration": 0.032056,
     "end_time": "2023-12-10T19:42:39.397643",
     "exception": false,
     "start_time": "2023-12-10T19:42:39.365587",
     "status": "completed"
    },
    "tags": []
   },
   "outputs": [],
   "source": [
    "# load data \n",
    "train_csv = pd.read_csv(\"/kaggle/input/UBC-OCEAN/train.csv\")"
   ]
  },
  {
   "cell_type": "code",
   "execution_count": 5,
   "id": "1c3b8ac8",
   "metadata": {
    "execution": {
     "iopub.execute_input": "2023-12-10T19:42:39.418896Z",
     "iopub.status.busy": "2023-12-10T19:42:39.418615Z",
     "iopub.status.idle": "2023-12-10T19:42:39.422528Z",
     "shell.execute_reply": "2023-12-10T19:42:39.421796Z"
    },
    "papermill": {
     "duration": 0.016546,
     "end_time": "2023-12-10T19:42:39.424287",
     "exception": false,
     "start_time": "2023-12-10T19:42:39.407741",
     "status": "completed"
    },
    "tags": []
   },
   "outputs": [],
   "source": [
    "# count files \n",
    "import os\n",
    "\n",
    "#n_files = 0\n",
    "#for _, _, files_list in os.walk('/kaggle/input/UBC-OCEAN/train_images'):\n",
    "     #n_files += len(files_list)\n",
    "#print('file count:', count)\n"
   ]
  },
  {
   "cell_type": "code",
   "execution_count": 6,
   "id": "33caa944",
   "metadata": {
    "execution": {
     "iopub.execute_input": "2023-12-10T19:42:39.445212Z",
     "iopub.status.busy": "2023-12-10T19:42:39.444935Z",
     "iopub.status.idle": "2023-12-10T19:42:39.501033Z",
     "shell.execute_reply": "2023-12-10T19:42:39.500084Z"
    },
    "papermill": {
     "duration": 0.06906,
     "end_time": "2023-12-10T19:42:39.503318",
     "exception": false,
     "start_time": "2023-12-10T19:42:39.434258",
     "status": "completed"
    },
    "tags": []
   },
   "outputs": [],
   "source": [
    "source = '/kaggle/input/UBC-OCEAN/train_thumbnails/'\n",
    "\n",
    "files_list = os.listdir(source)\n",
    "labels = train_csv[\"label\"].unique().tolist()\n",
    "labels_list = train_csv[\"label\"].tolist()"
   ]
  },
  {
   "cell_type": "code",
   "execution_count": 7,
   "id": "fcaa1143",
   "metadata": {
    "execution": {
     "iopub.execute_input": "2023-12-10T19:42:39.525945Z",
     "iopub.status.busy": "2023-12-10T19:42:39.525276Z",
     "iopub.status.idle": "2023-12-10T19:42:39.529504Z",
     "shell.execute_reply": "2023-12-10T19:42:39.528663Z"
    },
    "papermill": {
     "duration": 0.017248,
     "end_time": "2023-12-10T19:42:39.531319",
     "exception": false,
     "start_time": "2023-12-10T19:42:39.514071",
     "status": "completed"
    },
    "tags": []
   },
   "outputs": [],
   "source": [
    "n_files = len(files_list)"
   ]
  },
  {
   "cell_type": "code",
   "execution_count": 8,
   "id": "d4602a9a",
   "metadata": {
    "execution": {
     "iopub.execute_input": "2023-12-10T19:42:39.553634Z",
     "iopub.status.busy": "2023-12-10T19:42:39.553337Z",
     "iopub.status.idle": "2023-12-10T19:42:40.514775Z",
     "shell.execute_reply": "2023-12-10T19:42:40.513661Z"
    },
    "papermill": {
     "duration": 0.975112,
     "end_time": "2023-12-10T19:42:40.517217",
     "exception": false,
     "start_time": "2023-12-10T19:42:39.542105",
     "status": "completed"
    },
    "tags": []
   },
   "outputs": [],
   "source": [
    "!mkdir ./train\n"
   ]
  },
  {
   "cell_type": "code",
   "execution_count": 9,
   "id": "c213f454",
   "metadata": {
    "execution": {
     "iopub.execute_input": "2023-12-10T19:42:40.539418Z",
     "iopub.status.busy": "2023-12-10T19:42:40.538796Z",
     "iopub.status.idle": "2023-12-10T19:42:41.482923Z",
     "shell.execute_reply": "2023-12-10T19:42:41.481805Z"
    },
    "papermill": {
     "duration": 0.957655,
     "end_time": "2023-12-10T19:42:41.485268",
     "exception": false,
     "start_time": "2023-12-10T19:42:40.527613",
     "status": "completed"
    },
    "tags": []
   },
   "outputs": [],
   "source": [
    "!mkdir /kaggle/working/train/HGSC/\\\n",
    "/kaggle/working/train/LGSC/\\\n",
    "/kaggle/working/train/CC/\\\n",
    "/kaggle/working/train/MC/\\\n",
    "/kaggle/working/train/EC/"
   ]
  },
  {
   "cell_type": "code",
   "execution_count": 10,
   "id": "baf322bd",
   "metadata": {
    "execution": {
     "iopub.execute_input": "2023-12-10T19:42:41.510024Z",
     "iopub.status.busy": "2023-12-10T19:42:41.509662Z",
     "iopub.status.idle": "2023-12-10T19:43:22.158395Z",
     "shell.execute_reply": "2023-12-10T19:43:22.157389Z"
    },
    "papermill": {
     "duration": 40.66284,
     "end_time": "2023-12-10T19:43:22.160999",
     "exception": false,
     "start_time": "2023-12-10T19:42:41.498159",
     "status": "completed"
    },
    "tags": []
   },
   "outputs": [],
   "source": [
    "# fill sub-folders \n",
    "# split images into subfolders\n",
    "import shutil\n",
    "i=0\n",
    "dest = \"/kaggle/working/train/\"\n",
    "for file in files_list :\n",
    "    if ((file not in labels) and (file not in os.listdir(f'{dest}{labels_list[i]}/'))):\n",
    "        shutil.copy(\n",
    "           f\"{source}{file}\",\n",
    "           f'{dest}{labels_list[i]}/'\n",
    "           )\n",
    "i += 1"
   ]
  },
  {
   "cell_type": "code",
   "execution_count": 11,
   "id": "7319ecf0",
   "metadata": {
    "execution": {
     "iopub.execute_input": "2023-12-10T19:43:22.183330Z",
     "iopub.status.busy": "2023-12-10T19:43:22.183005Z",
     "iopub.status.idle": "2023-12-10T19:43:23.134988Z",
     "shell.execute_reply": "2023-12-10T19:43:23.134001Z"
    },
    "papermill": {
     "duration": 0.965919,
     "end_time": "2023-12-10T19:43:23.137567",
     "exception": false,
     "start_time": "2023-12-10T19:43:22.171648",
     "status": "completed"
    },
    "tags": []
   },
   "outputs": [
    {
     "name": "stdout",
     "output_type": "stream",
     "text": [
      "CC  EC\tHGSC  LGSC  MC\r\n"
     ]
    }
   ],
   "source": [
    "!ls  /kaggle/working/train/"
   ]
  },
  {
   "cell_type": "markdown",
   "id": "ab537c42",
   "metadata": {
    "papermill": {
     "duration": 0.010238,
     "end_time": "2023-12-10T19:43:23.158293",
     "exception": false,
     "start_time": "2023-12-10T19:43:23.148055",
     "status": "completed"
    },
    "tags": []
   },
   "source": [
    " Create datasets "
   ]
  },
  {
   "cell_type": "code",
   "execution_count": 12,
   "id": "c7c1dbca",
   "metadata": {
    "execution": {
     "iopub.execute_input": "2023-12-10T19:43:23.181482Z",
     "iopub.status.busy": "2023-12-10T19:43:23.181171Z",
     "iopub.status.idle": "2023-12-10T19:43:28.486738Z",
     "shell.execute_reply": "2023-12-10T19:43:28.485727Z"
    },
    "papermill": {
     "duration": 5.319773,
     "end_time": "2023-12-10T19:43:28.489016",
     "exception": false,
     "start_time": "2023-12-10T19:43:23.169243",
     "status": "completed"
    },
    "tags": []
   },
   "outputs": [
    {
     "name": "stdout",
     "output_type": "stream",
     "text": [
      "Found 513 files belonging to 5 classes.\n",
      "Using 411 files for training.\n"
     ]
    }
   ],
   "source": [
    "# create data sets\n",
    "# train_dir = './train_thumbnails/'\n",
    "\n",
    "BATCH_SIZE = 32\n",
    "# IMG_SIZE = (160, 160)\n",
    "IMG_SIZE = (128, 128)\n",
    "\n",
    "train_dataset = tf.keras.utils.image_dataset_from_directory('/kaggle/working/train',\n",
    "                                                            labels = \"inferred\",\n",
    "                                                            shuffle=True,\n",
    "                                                            batch_size=BATCH_SIZE,\n",
    "                                                            image_size=IMG_SIZE,\n",
    "                                                            subset =\"training\",\n",
    "                                                            validation_split = 0.2,\n",
    "                                                            seed = 123)"
   ]
  },
  {
   "cell_type": "code",
   "execution_count": 13,
   "id": "4ba448ab",
   "metadata": {
    "execution": {
     "iopub.execute_input": "2023-12-10T19:43:28.512753Z",
     "iopub.status.busy": "2023-12-10T19:43:28.512002Z",
     "iopub.status.idle": "2023-12-10T19:43:28.561148Z",
     "shell.execute_reply": "2023-12-10T19:43:28.560266Z"
    },
    "papermill": {
     "duration": 0.062947,
     "end_time": "2023-12-10T19:43:28.563059",
     "exception": false,
     "start_time": "2023-12-10T19:43:28.500112",
     "status": "completed"
    },
    "tags": []
   },
   "outputs": [
    {
     "name": "stdout",
     "output_type": "stream",
     "text": [
      "Found 513 files belonging to 5 classes.\n",
      "Using 102 files for validation.\n"
     ]
    }
   ],
   "source": [
    "# create data sets\n",
    "# train_dir = './train_thumbnails/'\n",
    "\n",
    "BATCH_SIZE = 32\n",
    "# IMG_SIZE = (160, 160)\n",
    "IMG_SIZE = (128, 128)\n",
    "\n",
    "validation_dataset = tf.keras.utils.image_dataset_from_directory('/kaggle/working/train',\n",
    "                                                            labels = \"inferred\",\n",
    "                                                            shuffle=True,\n",
    "                                                            batch_size=BATCH_SIZE,\n",
    "                                                            image_size=IMG_SIZE,\n",
    "                                                            subset =\"validation\",\n",
    "                                                            validation_split = 0.2,\n",
    "                                                            seed = 123)"
   ]
  },
  {
   "cell_type": "markdown",
   "id": "bee605eb",
   "metadata": {
    "papermill": {
     "duration": 0.010538,
     "end_time": "2023-12-10T19:43:28.584574",
     "exception": false,
     "start_time": "2023-12-10T19:43:28.574036",
     "status": "completed"
    },
    "tags": []
   },
   "source": [
    "## Data visualization"
   ]
  },
  {
   "cell_type": "code",
   "execution_count": 14,
   "id": "3c135254",
   "metadata": {
    "execution": {
     "iopub.execute_input": "2023-12-10T19:43:28.609294Z",
     "iopub.status.busy": "2023-12-10T19:43:28.608563Z",
     "iopub.status.idle": "2023-12-10T19:43:28.613085Z",
     "shell.execute_reply": "2023-12-10T19:43:28.612239Z"
    },
    "papermill": {
     "duration": 0.018303,
     "end_time": "2023-12-10T19:43:28.615149",
     "exception": false,
     "start_time": "2023-12-10T19:43:28.596846",
     "status": "completed"
    },
    "tags": []
   },
   "outputs": [],
   "source": [
    "import matplotlib.pyplot as plt \n",
    "class_names = train_dataset.class_names\n",
    "\n",
    "#plt.figure(figsize=(5, 5))\n",
    "#for images, labels in train_dataset.take(4):\n",
    "      #for i in range(4):\n",
    "            # print(class_names[labels[i]])\n",
    "           # ax = plt.subplot(2, 2, i + 1)\n",
    "            #img0 = plt.imread(images[i])\n",
    "            #plt.imshow(img0.numpy().astype(\"uint8\"))\n",
    "            #plt.title(class_names[labels[i]])\n",
    "            #plt.axis(\"off\")"
   ]
  },
  {
   "cell_type": "code",
   "execution_count": 15,
   "id": "3e798a1a",
   "metadata": {
    "execution": {
     "iopub.execute_input": "2023-12-10T19:43:28.640181Z",
     "iopub.status.busy": "2023-12-10T19:43:28.639431Z",
     "iopub.status.idle": "2023-12-10T19:43:28.643923Z",
     "shell.execute_reply": "2023-12-10T19:43:28.643076Z"
    },
    "papermill": {
     "duration": 0.020337,
     "end_time": "2023-12-10T19:43:28.645794",
     "exception": false,
     "start_time": "2023-12-10T19:43:28.625457",
     "status": "completed"
    },
    "tags": []
   },
   "outputs": [],
   "source": [
    "# image batch \n",
    "#for image_batch, labels_batch in train_dataset:\n",
    "      #print(image_batch.shape)\n",
    "      #print(labels_batch.shape)\n",
    "     # break"
   ]
  },
  {
   "cell_type": "markdown",
   "id": "eeb4a1fe",
   "metadata": {
    "papermill": {
     "duration": 0.010447,
     "end_time": "2023-12-10T19:43:28.667137",
     "exception": false,
     "start_time": "2023-12-10T19:43:28.656690",
     "status": "completed"
    },
    "tags": []
   },
   "source": [
    "==="
   ]
  },
  {
   "cell_type": "code",
   "execution_count": 16,
   "id": "19aba9a0",
   "metadata": {
    "execution": {
     "iopub.execute_input": "2023-12-10T19:43:28.689716Z",
     "iopub.status.busy": "2023-12-10T19:43:28.689099Z",
     "iopub.status.idle": "2023-12-10T19:43:28.695260Z",
     "shell.execute_reply": "2023-12-10T19:43:28.694247Z"
    },
    "papermill": {
     "duration": 0.019594,
     "end_time": "2023-12-10T19:43:28.697362",
     "exception": false,
     "start_time": "2023-12-10T19:43:28.677768",
     "status": "completed"
    },
    "tags": []
   },
   "outputs": [],
   "source": [
    "# Configure datasets for perf\n",
    "AUTOTUNE = tf.data.AUTOTUNE\n",
    "\n",
    "train_dataset = train_dataset.prefetch(buffer_size=AUTOTUNE)"
   ]
  },
  {
   "cell_type": "code",
   "execution_count": 17,
   "id": "cab16f32",
   "metadata": {
    "execution": {
     "iopub.execute_input": "2023-12-10T19:43:28.784793Z",
     "iopub.status.busy": "2023-12-10T19:43:28.783973Z",
     "iopub.status.idle": "2023-12-10T19:43:28.812445Z",
     "shell.execute_reply": "2023-12-10T19:43:28.811673Z"
    },
    "papermill": {
     "duration": 0.042521,
     "end_time": "2023-12-10T19:43:28.814571",
     "exception": false,
     "start_time": "2023-12-10T19:43:28.772050",
     "status": "completed"
    },
    "tags": []
   },
   "outputs": [],
   "source": [
    "#  augmentation layers\n",
    "data_augmentation = tf.keras.Sequential([\n",
    "tf.keras.layers.RandomFlip('horizontal'),\n",
    "tf.keras.layers.RandomFlip('vertical'),\n",
    "tf.keras.layers.RandomFlip('horizontal_and_vertical'),\n",
    "tf.keras.layers.RandomRotation(factor=0.2),\n",
    "tf.keras.layers.RandomBrightness(0.2),\n",
    "#new added layers\n",
    "tf.keras.layers.RandomCrop(IMG_SIZE[0], IMG_SIZE[1]),\n",
    "tf.keras.layers.Rescaling(scale=1.0 / 127.5, offset=-1),\n",
    "tf.keras.layers.RandomZoom(height_factor=0.1, width_factor=0.1)\n",
    "])"
   ]
  },
  {
   "cell_type": "code",
   "execution_count": 18,
   "id": "d34402bf",
   "metadata": {
    "execution": {
     "iopub.execute_input": "2023-12-10T19:43:28.838122Z",
     "iopub.status.busy": "2023-12-10T19:43:28.837396Z",
     "iopub.status.idle": "2023-12-10T19:43:30.641400Z",
     "shell.execute_reply": "2023-12-10T19:43:30.640449Z"
    },
    "papermill": {
     "duration": 1.818364,
     "end_time": "2023-12-10T19:43:30.643755",
     "exception": false,
     "start_time": "2023-12-10T19:43:28.825391",
     "status": "completed"
    },
    "tags": []
   },
   "outputs": [],
   "source": [
    "# hub layer \n",
    "hub_layer = hub.KerasLayer(\"https://www.kaggle.com/models/google/mobilenet-v2/frameworks/TensorFlow2/variations/035-128-classification/versions/2\",\n",
    "                   output_shape=(None,5),\n",
    "    trainable = False)"
   ]
  },
  {
   "cell_type": "code",
   "execution_count": 19,
   "id": "d02f9e1c",
   "metadata": {
    "execution": {
     "iopub.execute_input": "2023-12-10T19:43:30.666247Z",
     "iopub.status.busy": "2023-12-10T19:43:30.665911Z",
     "iopub.status.idle": "2023-12-10T19:43:32.290598Z",
     "shell.execute_reply": "2023-12-10T19:43:32.289791Z"
    },
    "papermill": {
     "duration": 1.638268,
     "end_time": "2023-12-10T19:43:32.292751",
     "exception": false,
     "start_time": "2023-12-10T19:43:30.654483",
     "status": "completed"
    },
    "tags": []
   },
   "outputs": [],
   "source": [
    "# add a global spatial average pooling layer\n",
    "inputs = keras.Input(shape=(128, 128, 3))\n",
    "x = data_augmentation(inputs)\n",
    "x = hub_layer(inputs)\n",
    "x = Dense(512, activation='relu',kernel_regularizer = \"l2\")(x)\n",
    "x = Dense(256, activation='relu',kernel_regularizer = \"l2\")(x)\n",
    "x = Dense(128, activation='relu',kernel_regularizer = \"l2\")(x)\n",
    "x = Dense(64, activation='relu',kernel_regularizer = \"l2\")(x)\n",
    "x = tf.keras.layers.Dropout(0.5)(x)\n",
    "# predictions layer\n",
    "predictions = Dense(5, activation='softmax')(x)"
   ]
  },
  {
   "cell_type": "code",
   "execution_count": 20,
   "id": "f325f94d",
   "metadata": {
    "execution": {
     "iopub.execute_input": "2023-12-10T19:43:32.315784Z",
     "iopub.status.busy": "2023-12-10T19:43:32.315448Z",
     "iopub.status.idle": "2023-12-10T19:43:32.323561Z",
     "shell.execute_reply": "2023-12-10T19:43:32.322856Z"
    },
    "papermill": {
     "duration": 0.021775,
     "end_time": "2023-12-10T19:43:32.325490",
     "exception": false,
     "start_time": "2023-12-10T19:43:32.303715",
     "status": "completed"
    },
    "tags": []
   },
   "outputs": [],
   "source": [
    "# model \n",
    "model = Model(inputs= inputs, outputs=predictions)"
   ]
  },
  {
   "cell_type": "code",
   "execution_count": 21,
   "id": "4af4ca66",
   "metadata": {
    "execution": {
     "iopub.execute_input": "2023-12-10T19:43:32.351444Z",
     "iopub.status.busy": "2023-12-10T19:43:32.351153Z",
     "iopub.status.idle": "2023-12-10T19:43:32.355271Z",
     "shell.execute_reply": "2023-12-10T19:43:32.354332Z"
    },
    "papermill": {
     "duration": 0.020918,
     "end_time": "2023-12-10T19:43:32.357205",
     "exception": false,
     "start_time": "2023-12-10T19:43:32.336287",
     "status": "completed"
    },
    "tags": []
   },
   "outputs": [],
   "source": [
    "#model.summary()"
   ]
  },
  {
   "cell_type": "code",
   "execution_count": 22,
   "id": "8504f0a9",
   "metadata": {
    "execution": {
     "iopub.execute_input": "2023-12-10T19:43:32.380339Z",
     "iopub.status.busy": "2023-12-10T19:43:32.379592Z",
     "iopub.status.idle": "2023-12-10T19:43:32.397793Z",
     "shell.execute_reply": "2023-12-10T19:43:32.397086Z"
    },
    "papermill": {
     "duration": 0.031921,
     "end_time": "2023-12-10T19:43:32.399896",
     "exception": false,
     "start_time": "2023-12-10T19:43:32.367975",
     "status": "completed"
    },
    "tags": []
   },
   "outputs": [],
   "source": [
    "model.compile(optimizer = 'Adam',\n",
    "                  loss = tf.keras.losses.SparseCategoricalCrossentropy(),\n",
    "                  metrics = \"Accuracy\")"
   ]
  },
  {
   "cell_type": "code",
   "execution_count": 23,
   "id": "48ed103e",
   "metadata": {
    "execution": {
     "iopub.execute_input": "2023-12-10T19:43:32.422763Z",
     "iopub.status.busy": "2023-12-10T19:43:32.422466Z",
     "iopub.status.idle": "2023-12-10T19:43:32.428818Z",
     "shell.execute_reply": "2023-12-10T19:43:32.427846Z"
    },
    "papermill": {
     "duration": 0.019906,
     "end_time": "2023-12-10T19:43:32.430697",
     "exception": false,
     "start_time": "2023-12-10T19:43:32.410791",
     "status": "completed"
    },
    "tags": []
   },
   "outputs": [
    {
     "name": "stdout",
     "output_type": "stream",
     "text": [
      "num batches : 13\n"
     ]
    }
   ],
   "source": [
    "train_batches = train_dataset.cardinality().numpy()\n",
    "val_batches = validation_dataset.cardinality().numpy()\n",
    "\n",
    "print(f\"num batches : {train_batches}\")"
   ]
  },
  {
   "cell_type": "code",
   "execution_count": 24,
   "id": "0266a4ae",
   "metadata": {
    "execution": {
     "iopub.execute_input": "2023-12-10T19:43:32.453182Z",
     "iopub.status.busy": "2023-12-10T19:43:32.452575Z",
     "iopub.status.idle": "2023-12-10T19:43:32.490700Z",
     "shell.execute_reply": "2023-12-10T19:43:32.489824Z"
    },
    "papermill": {
     "duration": 0.051524,
     "end_time": "2023-12-10T19:43:32.492795",
     "exception": false,
     "start_time": "2023-12-10T19:43:32.441271",
     "status": "completed"
    },
    "tags": []
   },
   "outputs": [
    {
     "data": {
      "text/plain": [
       "{0: 0.48, 1: 2.29, 2: 0.87, 3: 1.09, 4: 2.34}"
      ]
     },
     "execution_count": 24,
     "metadata": {},
     "output_type": "execute_result"
    }
   ],
   "source": [
    "# create class weights\n",
    "weights = skl.utils.class_weight.compute_class_weight('balanced',\n",
    "                                                      classes = labels,\n",
    "                                                    #    y=[class_names[id] for id in labels_train.numpy()] )\n",
    "                                                       y= labels_list\n",
    "                                                    )\n",
    "class_weights = {i: round(weights[i],2) for i in range(5) }\n",
    "class_weights\n"
   ]
  },
  {
   "cell_type": "markdown",
   "id": "a49a5dc2",
   "metadata": {
    "papermill": {
     "duration": 0.010911,
     "end_time": "2023-12-10T19:43:32.515816",
     "exception": false,
     "start_time": "2023-12-10T19:43:32.504905",
     "status": "completed"
    },
    "tags": []
   },
   "source": [
    "==="
   ]
  },
  {
   "cell_type": "code",
   "execution_count": 25,
   "id": "488626db",
   "metadata": {
    "execution": {
     "iopub.execute_input": "2023-12-10T19:43:32.539135Z",
     "iopub.status.busy": "2023-12-10T19:43:32.538453Z",
     "iopub.status.idle": "2023-12-10T19:48:35.258046Z",
     "shell.execute_reply": "2023-12-10T19:48:35.257008Z"
    },
    "papermill": {
     "duration": 302.733814,
     "end_time": "2023-12-10T19:48:35.260400",
     "exception": false,
     "start_time": "2023-12-10T19:43:32.526586",
     "status": "completed"
    },
    "tags": []
   },
   "outputs": [
    {
     "name": "stdout",
     "output_type": "stream",
     "text": [
      "Epoch 1/10\n",
      "13/13 [==============================] - 36s 587ms/step - loss: 11.7433 - Accuracy: 0.9148 - val_loss: 9.8946 - val_Accuracy: 1.0000\n",
      "Epoch 2/10\n",
      "13/13 [==============================] - 29s 1s/step - loss: 8.5975 - Accuracy: 1.0000 - val_loss: 7.1671 - val_Accuracy: 1.0000\n",
      "Epoch 3/10\n",
      "13/13 [==============================] - 30s 1s/step - loss: 6.1836 - Accuracy: 1.0000 - val_loss: 5.1374 - val_Accuracy: 1.0000\n",
      "Epoch 4/10\n",
      "13/13 [==============================] - 29s 1s/step - loss: 4.4504 - Accuracy: 1.0000 - val_loss: 3.7283 - val_Accuracy: 1.0000\n",
      "Epoch 5/10\n",
      "13/13 [==============================] - 30s 1s/step - loss: 3.2601 - Accuracy: 1.0000 - val_loss: 2.7674 - val_Accuracy: 1.0000\n",
      "Epoch 6/10\n",
      "13/13 [==============================] - 30s 1s/step - loss: 2.4458 - Accuracy: 1.0000 - val_loss: 2.1055 - val_Accuracy: 1.0000\n",
      "Epoch 7/10\n",
      "13/13 [==============================] - 30s 1s/step - loss: 1.8805 - Accuracy: 1.0000 - val_loss: 1.6394 - val_Accuracy: 1.0000\n",
      "Epoch 8/10\n",
      "13/13 [==============================] - 30s 1s/step - loss: 1.4778 - Accuracy: 1.0000 - val_loss: 1.3026 - val_Accuracy: 1.0000\n",
      "Epoch 9/10\n",
      "13/13 [==============================] - 30s 1s/step - loss: 1.1844 - Accuracy: 1.0000 - val_loss: 1.0530 - val_Accuracy: 1.0000\n",
      "Epoch 10/10\n",
      "13/13 [==============================] - 30s 1s/step - loss: 0.9641 - Accuracy: 1.0000 - val_loss: 0.8644 - val_Accuracy: 1.0000\n"
     ]
    }
   ],
   "source": [
    "history = model.fit(train_dataset,\n",
    "                         validation_data = validation_dataset,\n",
    "                         class_weight = class_weights,\n",
    "                        epochs = 10)"
   ]
  },
  {
   "cell_type": "code",
   "execution_count": 26,
   "id": "a6ec2b79",
   "metadata": {
    "execution": {
     "iopub.execute_input": "2023-12-10T19:48:35.297251Z",
     "iopub.status.busy": "2023-12-10T19:48:35.296871Z",
     "iopub.status.idle": "2023-12-10T19:48:35.300792Z",
     "shell.execute_reply": "2023-12-10T19:48:35.299960Z"
    },
    "papermill": {
     "duration": 0.023907,
     "end_time": "2023-12-10T19:48:35.302711",
     "exception": false,
     "start_time": "2023-12-10T19:48:35.278804",
     "status": "completed"
    },
    "tags": []
   },
   "outputs": [],
   "source": [
    "# predict \n",
    "#pred = model.predict()"
   ]
  },
  {
   "cell_type": "markdown",
   "id": "987c84b1",
   "metadata": {
    "papermill": {
     "duration": 0.016879,
     "end_time": "2023-12-10T19:48:35.336295",
     "exception": false,
     "start_time": "2023-12-10T19:48:35.319416",
     "status": "completed"
    },
    "tags": []
   },
   "source": [
    "==="
   ]
  },
  {
   "cell_type": "code",
   "execution_count": 27,
   "id": "33faa33a",
   "metadata": {
    "execution": {
     "iopub.execute_input": "2023-12-10T19:48:35.370039Z",
     "iopub.status.busy": "2023-12-10T19:48:35.369673Z",
     "iopub.status.idle": "2023-12-10T19:48:35.883698Z",
     "shell.execute_reply": "2023-12-10T19:48:35.882771Z"
    },
    "papermill": {
     "duration": 0.533442,
     "end_time": "2023-12-10T19:48:35.885823",
     "exception": false,
     "start_time": "2023-12-10T19:48:35.352381",
     "status": "completed"
    },
    "tags": []
   },
   "outputs": [
    {
     "data": {
      "image/png": "[encoded data removed]",
      "text/plain": [
       "<Figure size 1000x400 with 2 Axes>"
      ]
     },
     "metadata": {},
     "output_type": "display_data"
    }
   ],
   "source": [
    "# plot training and validation metrics\n",
    "import matplotlib.pyplot as plt\n",
    "acc = history.history['Accuracy']\n",
    "val_acc = history.history['val_Accuracy']\n",
    "\n",
    "loss = history.history['loss']\n",
    "val_loss = history.history['val_loss']\n",
    "\n",
    "plt.figure(figsize=(10, 4))\n",
    "plt.subplot(1, 2, 1)\n",
    "plt.plot(acc, label='Training Accuracy')\n",
    "plt.plot(val_acc, label='Validation Accuracy')\n",
    "plt.legend(loc='upper right')\n",
    "plt.ylabel('Accuracy')\n",
    "plt.ylim([min(plt.ylim()),1])\n",
    "plt.title('Training and Validation Accuracy')\n",
    "\n",
    "plt.subplot(1, 2, 2)\n",
    "plt.plot(loss, label='Training Loss')\n",
    "plt.plot(val_loss, label='Validation Loss')\n",
    "plt.legend(loc='upper right')\n",
    "plt.ylabel('Cross Entropy')\n",
    "# plt.ylim([0,4])\n",
    "plt.title('Training and Validation Loss')\n",
    "plt.xlabel('epoch')\n",
    "plt.show()"
   ]
  },
  {
   "cell_type": "code",
   "execution_count": 28,
   "id": "5df69e44",
   "metadata": {
    "execution": {
     "iopub.execute_input": "2023-12-10T19:48:35.922152Z",
     "iopub.status.busy": "2023-12-10T19:48:35.921440Z",
     "iopub.status.idle": "2023-12-10T19:48:36.232061Z",
     "shell.execute_reply": "2023-12-10T19:48:36.231071Z"
    },
    "papermill": {
     "duration": 0.331367,
     "end_time": "2023-12-10T19:48:36.234469",
     "exception": false,
     "start_time": "2023-12-10T19:48:35.903102",
     "status": "completed"
    },
    "tags": []
   },
   "outputs": [],
   "source": [
    "IMG_SIZE = (128, 128)\n",
    "test_image0= tf.keras.utils.load_img(\"/kaggle/input/UBC-OCEAN/test_thumbnails/41_thumbnail.png\",\n",
    "                                   target_size= (128,128,3))\n",
    "test_image = tf.keras.utils.img_to_array(test_image0)"
   ]
  },
  {
   "cell_type": "code",
   "execution_count": 29,
   "id": "29a5ab66",
   "metadata": {
    "execution": {
     "iopub.execute_input": "2023-12-10T19:48:36.270636Z",
     "iopub.status.busy": "2023-12-10T19:48:36.270330Z",
     "iopub.status.idle": "2023-12-10T19:48:36.276488Z",
     "shell.execute_reply": "2023-12-10T19:48:36.275677Z"
    },
    "papermill": {
     "duration": 0.026281,
     "end_time": "2023-12-10T19:48:36.278345",
     "exception": false,
     "start_time": "2023-12-10T19:48:36.252064",
     "status": "completed"
    },
    "tags": []
   },
   "outputs": [
    {
     "data": {
      "text/plain": [
       "(1, 128, 128, 3)"
      ]
     },
     "execution_count": 29,
     "metadata": {},
     "output_type": "execute_result"
    }
   ],
   "source": [
    "# read test image \n",
    "test_image = np.expand_dims(test_image,axis = 0)\n",
    "test_image.shape"
   ]
  },
  {
   "cell_type": "code",
   "execution_count": 30,
   "id": "8a87eff9",
   "metadata": {
    "execution": {
     "iopub.execute_input": "2023-12-10T19:48:36.313739Z",
     "iopub.status.busy": "2023-12-10T19:48:36.313424Z",
     "iopub.status.idle": "2023-12-10T19:48:36.328138Z",
     "shell.execute_reply": "2023-12-10T19:48:36.327415Z"
    },
    "papermill": {
     "duration": 0.03446,
     "end_time": "2023-12-10T19:48:36.330029",
     "exception": false,
     "start_time": "2023-12-10T19:48:36.295569",
     "status": "completed"
    },
    "tags": []
   },
   "outputs": [],
   "source": [
    "#read sample_submission.csv\n",
    "df = pd.read_csv(\"/kaggle/input/kerascv-train-and-infer-on-thumbnails/submission.csv\")\n",
    "test_csv = pd.read_csv(\"/kaggle/input/UBC-OCEAN/test.csv\")"
   ]
  },
  {
   "cell_type": "code",
   "execution_count": 31,
   "id": "2f3f4444",
   "metadata": {
    "execution": {
     "iopub.execute_input": "2023-12-10T19:48:36.365994Z",
     "iopub.status.busy": "2023-12-10T19:48:36.365697Z",
     "iopub.status.idle": "2023-12-10T19:48:37.119047Z",
     "shell.execute_reply": "2023-12-10T19:48:37.118149Z"
    },
    "papermill": {
     "duration": 0.773684,
     "end_time": "2023-12-10T19:48:37.121009",
     "exception": false,
     "start_time": "2023-12-10T19:48:36.347325",
     "status": "completed"
    },
    "tags": []
   },
   "outputs": [
    {
     "name": "stdout",
     "output_type": "stream",
     "text": [
      "1/1 [==============================] - 1s 694ms/step\n"
     ]
    }
   ],
   "source": [
    "# predict\n",
    "pred = model.predict(test_image).argmax()\n",
    "#pred = tf.math.softmax(pred0)\n",
    "label = labels[pred]\n",
    "df[\"image_id\"] = test_csv.iloc[0,0]\n",
    "df[\"label\"] = label\n",
    "df.to_csv(\"submission.csv\",index = False)"
   ]
  }
 ],
 "metadata": {
  "kaggle": {
   "accelerator": "gpu",
   "dataSources": [
    {
     "databundleVersionId": 6924515,
     "sourceId": 45867,
     "sourceType": "competition"
    },
    {
     "sourceId": 146982497,
     "sourceType": "kernelVersion"
    },
    {
     "isSourceIdPinned": true,
     "modelInstanceId": 2508,
     "sourceId": 3404,
     "sourceType": "modelInstanceVersion"
    }
   ],
   "dockerImageVersionId": 30559,
   "isGpuEnabled": true,
   "isInternetEnabled": false,
   "language": "python",
   "sourceType": "notebook"
  },
  "kernelspec": {
   "display_name": "Python 3",
   "language": "python",
   "name": "python3"
  },
  "language_info": {
   "codemirror_mode": {
    "name": "ipython",
    "version": 3
   },
   "file_extension": ".py",
   "mimetype": "text/x-python",
   "name": "python",
   "nbconvert_exporter": "python",
   "pygments_lexer": "ipython3",
   "version": "3.10.12"
  },
  "papermill": {
   "default_parameters": {},
   "duration": 379.668242,
   "end_time": "2023-12-10T19:48:40.416182",
   "environment_variables": {},
   "exception": null,
   "input_path": "__notebook__.ipynb",
   "output_path": "__notebook__.ipynb",
   "parameters": {},
   "start_time": "2023-12-10T19:42:20.747940",
   "version": "2.4.0"
  }
 },
 "nbformat": 4,
 "nbformat_minor": 5
}
