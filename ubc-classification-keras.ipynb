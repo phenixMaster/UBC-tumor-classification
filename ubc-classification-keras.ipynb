{
 "cells": [
  {
   "cell_type": "markdown",
   "id": "c43becb4",
   "metadata": {
    "papermill": {
     "duration": 0.009709,
     "end_time": "2023-12-09T10:01:32.544854",
     "exception": false,
     "start_time": "2023-12-09T10:01:32.535145",
     "status": "completed"
    },
    "tags": []
   },
   "source": [
    "The challenge in this competition is to classify the type of ovarian cancer from microscopy scans of biopsy samples.\n"
   ]
  },
  {
   "cell_type": "markdown",
   "id": "62791f79",
   "metadata": {
    "papermill": {
     "duration": 0.008806,
     "end_time": "2023-12-09T10:01:32.562970",
     "exception": false,
     "start_time": "2023-12-09T10:01:32.554164",
     "status": "completed"
    },
    "tags": []
   },
   "source": [
    "### TASK : image classification (multiclass)"
   ]
  },
  {
   "cell_type": "markdown",
   "id": "fadc70df",
   "metadata": {
    "papermill": {
     "duration": 0.008816,
     "end_time": "2023-12-09T10:01:32.580819",
     "exception": false,
     "start_time": "2023-12-09T10:01:32.572003",
     "status": "completed"
    },
    "tags": []
   },
   "source": [
    "### Setup and Imports\n",
    "\n"
   ]
  },
  {
   "cell_type": "code",
   "execution_count": 1,
   "id": "bdad6a3d",
   "metadata": {
    "execution": {
     "iopub.execute_input": "2023-12-09T10:01:32.600611Z",
     "iopub.status.busy": "2023-12-09T10:01:32.599800Z",
     "iopub.status.idle": "2023-12-09T10:01:32.611068Z",
     "shell.execute_reply": "2023-12-09T10:01:32.610030Z"
    },
    "papermill": {
     "duration": 0.023383,
     "end_time": "2023-12-09T10:01:32.613051",
     "exception": false,
     "start_time": "2023-12-09T10:01:32.589668",
     "status": "completed"
    },
    "tags": []
   },
   "outputs": [
    {
     "name": "stdout",
     "output_type": "stream",
     "text": [
      "\u0007"
     ]
    }
   ],
   "source": [
    "import sys\n",
    "sys.stdout.write('\\a')\n",
    "sys.stdout.flush()"
   ]
  },
  {
   "cell_type": "code",
   "execution_count": 2,
   "id": "aeaa36ed",
   "metadata": {
    "execution": {
     "iopub.execute_input": "2023-12-09T10:01:32.632612Z",
     "iopub.status.busy": "2023-12-09T10:01:32.632299Z",
     "iopub.status.idle": "2023-12-09T10:01:32.636190Z",
     "shell.execute_reply": "2023-12-09T10:01:32.635456Z"
    },
    "papermill": {
     "duration": 0.01605,
     "end_time": "2023-12-09T10:01:32.638110",
     "exception": false,
     "start_time": "2023-12-09T10:01:32.622060",
     "status": "completed"
    },
    "tags": []
   },
   "outputs": [],
   "source": [
    "#!pip install scikit_learn"
   ]
  },
  {
   "cell_type": "code",
   "execution_count": 3,
   "id": "aa864535",
   "metadata": {
    "execution": {
     "iopub.execute_input": "2023-12-09T10:01:32.657332Z",
     "iopub.status.busy": "2023-12-09T10:01:32.657012Z",
     "iopub.status.idle": "2023-12-09T10:01:49.006767Z",
     "shell.execute_reply": "2023-12-09T10:01:49.005901Z"
    },
    "papermill": {
     "duration": 16.362379,
     "end_time": "2023-12-09T10:01:49.009360",
     "exception": false,
     "start_time": "2023-12-09T10:01:32.646981",
     "status": "completed"
    },
    "tags": []
   },
   "outputs": [
    {
     "name": "stderr",
     "output_type": "stream",
     "text": [
      "/opt/conda/lib/python3.10/site-packages/scipy/__init__.py:146: UserWarning: A NumPy version >=1.16.5 and <1.23.0 is required for this version of SciPy (detected version 1.23.5\n",
      "  warnings.warn(f\"A NumPy version >={np_minversion} and <{np_maxversion}\"\n"
     ]
    },
    {
     "name": "stdout",
     "output_type": "stream",
     "text": [
      "Using TensorFlow backend\n"
     ]
    }
   ],
   "source": [
    "import tensorflow as tf \n",
    "import tensorflow_hub as hub\n",
    "from tensorflow import keras\n",
    "from tensorflow.keras.applications.inception_v3 import InceptionV3\n",
    "from tensorflow.keras.preprocessing import image\n",
    "from tensorflow.keras.models import Model\n",
    "from tensorflow.keras.layers import Dense, GlobalAveragePooling2D\n",
    "import keras_cv\n",
    "import pandas as pd\n",
    "import datasets \n",
    "import numpy as np \n",
    "import sklearn as skl"
   ]
  },
  {
   "cell_type": "markdown",
   "id": "2ff9a4ae",
   "metadata": {
    "papermill": {
     "duration": 0.008742,
     "end_time": "2023-12-09T10:01:49.027528",
     "exception": false,
     "start_time": "2023-12-09T10:01:49.018786",
     "status": "completed"
    },
    "tags": []
   },
   "source": [
    "=pretrained model =  \n",
    "microsoft/resnet-18\"\n",
    "\n"
   ]
  },
  {
   "cell_type": "code",
   "execution_count": 4,
   "id": "ac067c76",
   "metadata": {
    "execution": {
     "iopub.execute_input": "2023-12-09T10:01:49.047853Z",
     "iopub.status.busy": "2023-12-09T10:01:49.047174Z",
     "iopub.status.idle": "2023-12-09T10:01:49.071296Z",
     "shell.execute_reply": "2023-12-09T10:01:49.070502Z"
    },
    "papermill": {
     "duration": 0.036999,
     "end_time": "2023-12-09T10:01:49.073566",
     "exception": false,
     "start_time": "2023-12-09T10:01:49.036567",
     "status": "completed"
    },
    "tags": []
   },
   "outputs": [],
   "source": [
    "# load data \n",
    "train_csv = pd.read_csv(\"/kaggle/input/UBC-OCEAN/train.csv\")"
   ]
  },
  {
   "cell_type": "code",
   "execution_count": 5,
   "id": "6fc558a3",
   "metadata": {
    "execution": {
     "iopub.execute_input": "2023-12-09T10:01:49.093658Z",
     "iopub.status.busy": "2023-12-09T10:01:49.093321Z",
     "iopub.status.idle": "2023-12-09T10:01:49.097560Z",
     "shell.execute_reply": "2023-12-09T10:01:49.096757Z"
    },
    "papermill": {
     "duration": 0.016318,
     "end_time": "2023-12-09T10:01:49.099427",
     "exception": false,
     "start_time": "2023-12-09T10:01:49.083109",
     "status": "completed"
    },
    "tags": []
   },
   "outputs": [],
   "source": [
    "# count files \n",
    "import os\n",
    "\n",
    "#n_files = 0\n",
    "#for _, _, files_list in os.walk('/kaggle/input/UBC-OCEAN/train_images'):\n",
    "     #n_files += len(files_list)\n",
    "#print('file count:', count)\n"
   ]
  },
  {
   "cell_type": "code",
   "execution_count": 6,
   "id": "143e0c1a",
   "metadata": {
    "execution": {
     "iopub.execute_input": "2023-12-09T10:01:49.118883Z",
     "iopub.status.busy": "2023-12-09T10:01:49.118551Z",
     "iopub.status.idle": "2023-12-09T10:01:49.255894Z",
     "shell.execute_reply": "2023-12-09T10:01:49.255039Z"
    },
    "papermill": {
     "duration": 0.149979,
     "end_time": "2023-12-09T10:01:49.258386",
     "exception": false,
     "start_time": "2023-12-09T10:01:49.108407",
     "status": "completed"
    },
    "tags": []
   },
   "outputs": [],
   "source": [
    "source = '/kaggle/input/UBC-OCEAN/train_thumbnails/'\n",
    "\n",
    "files_list = os.listdir(source)\n",
    "labels = train_csv[\"label\"].unique().tolist()\n",
    "labels_list = train_csv[\"label\"].tolist()"
   ]
  },
  {
   "cell_type": "code",
   "execution_count": 7,
   "id": "b7ec661a",
   "metadata": {
    "execution": {
     "iopub.execute_input": "2023-12-09T10:01:49.278554Z",
     "iopub.status.busy": "2023-12-09T10:01:49.278185Z",
     "iopub.status.idle": "2023-12-09T10:01:49.282503Z",
     "shell.execute_reply": "2023-12-09T10:01:49.281561Z"
    },
    "papermill": {
     "duration": 0.016645,
     "end_time": "2023-12-09T10:01:49.284461",
     "exception": false,
     "start_time": "2023-12-09T10:01:49.267816",
     "status": "completed"
    },
    "tags": []
   },
   "outputs": [],
   "source": [
    "n_files = len(files_list)"
   ]
  },
  {
   "cell_type": "code",
   "execution_count": 8,
   "id": "e2f2e0a9",
   "metadata": {
    "execution": {
     "iopub.execute_input": "2023-12-09T10:01:49.304231Z",
     "iopub.status.busy": "2023-12-09T10:01:49.303877Z",
     "iopub.status.idle": "2023-12-09T10:01:50.268130Z",
     "shell.execute_reply": "2023-12-09T10:01:50.266765Z"
    },
    "papermill": {
     "duration": 0.977043,
     "end_time": "2023-12-09T10:01:50.270736",
     "exception": false,
     "start_time": "2023-12-09T10:01:49.293693",
     "status": "completed"
    },
    "tags": []
   },
   "outputs": [],
   "source": [
    "!mkdir ./train\n"
   ]
  },
  {
   "cell_type": "code",
   "execution_count": 9,
   "id": "82e5c403",
   "metadata": {
    "execution": {
     "iopub.execute_input": "2023-12-09T10:01:50.291778Z",
     "iopub.status.busy": "2023-12-09T10:01:50.290805Z",
     "iopub.status.idle": "2023-12-09T10:01:51.245518Z",
     "shell.execute_reply": "2023-12-09T10:01:51.243984Z"
    },
    "papermill": {
     "duration": 0.968048,
     "end_time": "2023-12-09T10:01:51.248249",
     "exception": false,
     "start_time": "2023-12-09T10:01:50.280201",
     "status": "completed"
    },
    "tags": []
   },
   "outputs": [],
   "source": [
    "!mkdir /kaggle/working/train/HGSC/\\\n",
    "/kaggle/working/train/LGSC/\\\n",
    "/kaggle/working/train/CC/\\\n",
    "/kaggle/working/train/MC/\\\n",
    "/kaggle/working/train/EC/"
   ]
  },
  {
   "cell_type": "code",
   "execution_count": 10,
   "id": "d7665c6d",
   "metadata": {
    "execution": {
     "iopub.execute_input": "2023-12-09T10:01:51.273442Z",
     "iopub.status.busy": "2023-12-09T10:01:51.272675Z",
     "iopub.status.idle": "2023-12-09T10:02:59.133804Z",
     "shell.execute_reply": "2023-12-09T10:02:59.132910Z"
    },
    "papermill": {
     "duration": 67.875037,
     "end_time": "2023-12-09T10:02:59.136277",
     "exception": false,
     "start_time": "2023-12-09T10:01:51.261240",
     "status": "completed"
    },
    "tags": []
   },
   "outputs": [],
   "source": [
    "# fill sub-folders \n",
    "# split images into subfolders\n",
    "import shutil\n",
    "i=0\n",
    "dest = \"/kaggle/working/train/\"\n",
    "for file in files_list :\n",
    "    if ((file not in labels) and (file not in os.listdir(f'{dest}{labels_list[i]}/'))):\n",
    "        shutil.copy(\n",
    "           f\"{source}{file}\",\n",
    "           f'{dest}{labels_list[i]}/'\n",
    "           )\n",
    "i += 1"
   ]
  },
  {
   "cell_type": "code",
   "execution_count": 11,
   "id": "2173c646",
   "metadata": {
    "execution": {
     "iopub.execute_input": "2023-12-09T10:02:59.156527Z",
     "iopub.status.busy": "2023-12-09T10:02:59.156203Z",
     "iopub.status.idle": "2023-12-09T10:03:00.121087Z",
     "shell.execute_reply": "2023-12-09T10:03:00.120066Z"
    },
    "papermill": {
     "duration": 0.9775,
     "end_time": "2023-12-09T10:03:00.123540",
     "exception": false,
     "start_time": "2023-12-09T10:02:59.146040",
     "status": "completed"
    },
    "tags": []
   },
   "outputs": [
    {
     "name": "stdout",
     "output_type": "stream",
     "text": [
      "CC  EC\tHGSC  LGSC  MC\r\n"
     ]
    }
   ],
   "source": [
    "!ls  /kaggle/working/train/"
   ]
  },
  {
   "cell_type": "markdown",
   "id": "0667e221",
   "metadata": {
    "papermill": {
     "duration": 0.008978,
     "end_time": "2023-12-09T10:03:00.141730",
     "exception": false,
     "start_time": "2023-12-09T10:03:00.132752",
     "status": "completed"
    },
    "tags": []
   },
   "source": [
    " Create datasets "
   ]
  },
  {
   "cell_type": "code",
   "execution_count": 12,
   "id": "c93a65db",
   "metadata": {
    "execution": {
     "iopub.execute_input": "2023-12-09T10:03:00.161217Z",
     "iopub.status.busy": "2023-12-09T10:03:00.160796Z",
     "iopub.status.idle": "2023-12-09T10:03:05.960499Z",
     "shell.execute_reply": "2023-12-09T10:03:05.959704Z"
    },
    "papermill": {
     "duration": 5.812285,
     "end_time": "2023-12-09T10:03:05.962929",
     "exception": false,
     "start_time": "2023-12-09T10:03:00.150644",
     "status": "completed"
    },
    "tags": []
   },
   "outputs": [
    {
     "name": "stdout",
     "output_type": "stream",
     "text": [
      "Found 513 files belonging to 5 classes.\n",
      "Using 411 files for training.\n"
     ]
    }
   ],
   "source": [
    "# create data sets\n",
    "# train_dir = './train_thumbnails/'\n",
    "\n",
    "BATCH_SIZE = 32\n",
    "# IMG_SIZE = (160, 160)\n",
    "IMG_SIZE = (128, 128)\n",
    "\n",
    "train_dataset = tf.keras.utils.image_dataset_from_directory('/kaggle/working/train',\n",
    "                                                            labels = \"inferred\",\n",
    "                                                            shuffle=True,\n",
    "                                                            batch_size=BATCH_SIZE,\n",
    "                                                            image_size=IMG_SIZE,\n",
    "                                                            subset =\"training\",\n",
    "                                                            validation_split = 0.2,\n",
    "                                                            seed = 123)"
   ]
  },
  {
   "cell_type": "code",
   "execution_count": 13,
   "id": "1121e699",
   "metadata": {
    "execution": {
     "iopub.execute_input": "2023-12-09T10:03:05.983824Z",
     "iopub.status.busy": "2023-12-09T10:03:05.983470Z",
     "iopub.status.idle": "2023-12-09T10:03:06.032641Z",
     "shell.execute_reply": "2023-12-09T10:03:06.031699Z"
    },
    "papermill": {
     "duration": 0.062022,
     "end_time": "2023-12-09T10:03:06.034635",
     "exception": false,
     "start_time": "2023-12-09T10:03:05.972613",
     "status": "completed"
    },
    "tags": []
   },
   "outputs": [
    {
     "name": "stdout",
     "output_type": "stream",
     "text": [
      "Found 513 files belonging to 5 classes.\n",
      "Using 102 files for validation.\n"
     ]
    }
   ],
   "source": [
    "# create data sets\n",
    "# train_dir = './train_thumbnails/'\n",
    "\n",
    "BATCH_SIZE = 32\n",
    "# IMG_SIZE = (160, 160)\n",
    "IMG_SIZE = (128, 128)\n",
    "\n",
    "validation_dataset = tf.keras.utils.image_dataset_from_directory('/kaggle/working/train',\n",
    "                                                            labels = \"inferred\",\n",
    "                                                            shuffle=True,\n",
    "                                                            batch_size=BATCH_SIZE,\n",
    "                                                            image_size=IMG_SIZE,\n",
    "                                                            subset =\"validation\",\n",
    "                                                            validation_split = 0.2,\n",
    "                                                            seed = 123)"
   ]
  },
  {
   "cell_type": "markdown",
   "id": "6b2952e3",
   "metadata": {
    "papermill": {
     "duration": 0.009376,
     "end_time": "2023-12-09T10:03:06.053593",
     "exception": false,
     "start_time": "2023-12-09T10:03:06.044217",
     "status": "completed"
    },
    "tags": []
   },
   "source": [
    "## Data visualization"
   ]
  },
  {
   "cell_type": "code",
   "execution_count": 14,
   "id": "b4602e13",
   "metadata": {
    "execution": {
     "iopub.execute_input": "2023-12-09T10:03:06.074342Z",
     "iopub.status.busy": "2023-12-09T10:03:06.073619Z",
     "iopub.status.idle": "2023-12-09T10:03:06.078545Z",
     "shell.execute_reply": "2023-12-09T10:03:06.077633Z"
    },
    "papermill": {
     "duration": 0.017281,
     "end_time": "2023-12-09T10:03:06.080449",
     "exception": false,
     "start_time": "2023-12-09T10:03:06.063168",
     "status": "completed"
    },
    "tags": []
   },
   "outputs": [],
   "source": [
    "import matplotlib.pyplot as plt \n",
    "class_names = train_dataset.class_names\n",
    "\n",
    "#plt.figure(figsize=(5, 5))\n",
    "#for images, labels in train_dataset.take(4):\n",
    "      #for i in range(4):\n",
    "            # print(class_names[labels[i]])\n",
    "           # ax = plt.subplot(2, 2, i + 1)\n",
    "            #img0 = plt.imread(images[i])\n",
    "            #plt.imshow(img0.numpy().astype(\"uint8\"))\n",
    "            #plt.title(class_names[labels[i]])\n",
    "            #plt.axis(\"off\")"
   ]
  },
  {
   "cell_type": "code",
   "execution_count": 15,
   "id": "83097db3",
   "metadata": {
    "execution": {
     "iopub.execute_input": "2023-12-09T10:03:06.100368Z",
     "iopub.status.busy": "2023-12-09T10:03:06.099770Z",
     "iopub.status.idle": "2023-12-09T10:03:06.103771Z",
     "shell.execute_reply": "2023-12-09T10:03:06.102911Z"
    },
    "papermill": {
     "duration": 0.015949,
     "end_time": "2023-12-09T10:03:06.105734",
     "exception": false,
     "start_time": "2023-12-09T10:03:06.089785",
     "status": "completed"
    },
    "tags": []
   },
   "outputs": [],
   "source": [
    "# image batch \n",
    "#for image_batch, labels_batch in train_dataset:\n",
    "      #print(image_batch.shape)\n",
    "      #print(labels_batch.shape)\n",
    "     # break"
   ]
  },
  {
   "cell_type": "markdown",
   "id": "69cc94a0",
   "metadata": {
    "papermill": {
     "duration": 0.010272,
     "end_time": "2023-12-09T10:03:06.125153",
     "exception": false,
     "start_time": "2023-12-09T10:03:06.114881",
     "status": "completed"
    },
    "tags": []
   },
   "source": [
    "==="
   ]
  },
  {
   "cell_type": "code",
   "execution_count": 16,
   "id": "4c9f3a5e",
   "metadata": {
    "execution": {
     "iopub.execute_input": "2023-12-09T10:03:06.145130Z",
     "iopub.status.busy": "2023-12-09T10:03:06.144458Z",
     "iopub.status.idle": "2023-12-09T10:03:06.150768Z",
     "shell.execute_reply": "2023-12-09T10:03:06.149853Z"
    },
    "papermill": {
     "duration": 0.018587,
     "end_time": "2023-12-09T10:03:06.152807",
     "exception": false,
     "start_time": "2023-12-09T10:03:06.134220",
     "status": "completed"
    },
    "tags": []
   },
   "outputs": [],
   "source": [
    "# Configure datasets for perf\n",
    "AUTOTUNE = tf.data.AUTOTUNE\n",
    "\n",
    "train_dataset = train_dataset.prefetch(buffer_size=AUTOTUNE)"
   ]
  },
  {
   "cell_type": "code",
   "execution_count": 17,
   "id": "e348b180",
   "metadata": {
    "execution": {
     "iopub.execute_input": "2023-12-09T10:03:06.172934Z",
     "iopub.status.busy": "2023-12-09T10:03:06.172582Z",
     "iopub.status.idle": "2023-12-09T10:03:06.201863Z",
     "shell.execute_reply": "2023-12-09T10:03:06.200937Z"
    },
    "papermill": {
     "duration": 0.041797,
     "end_time": "2023-12-09T10:03:06.204045",
     "exception": false,
     "start_time": "2023-12-09T10:03:06.162248",
     "status": "completed"
    },
    "tags": []
   },
   "outputs": [],
   "source": [
    "#  augmentation layers\n",
    "data_augmentation = tf.keras.Sequential([\n",
    "tf.keras.layers.RandomFlip('horizontal'),\n",
    "tf.keras.layers.RandomFlip('vertical'),\n",
    "tf.keras.layers.RandomFlip('horizontal_and_vertical'),\n",
    "tf.keras.layers.RandomRotation(factor=0.2),\n",
    "tf.keras.layers.RandomBrightness(0.2),\n",
    "#new added layers\n",
    "tf.keras.layers.RandomCrop(IMG_SIZE[0], IMG_SIZE[1]),\n",
    "tf.keras.layers.Rescaling(scale=1.0 / 127.5, offset=-1),\n",
    "tf.keras.layers.RandomZoom(height_factor=0.1, width_factor=0.1)\n",
    "])"
   ]
  },
  {
   "cell_type": "code",
   "execution_count": 18,
   "id": "d62bf10a",
   "metadata": {
    "execution": {
     "iopub.execute_input": "2023-12-09T10:03:06.224345Z",
     "iopub.status.busy": "2023-12-09T10:03:06.224010Z",
     "iopub.status.idle": "2023-12-09T10:03:08.074180Z",
     "shell.execute_reply": "2023-12-09T10:03:08.073101Z"
    },
    "papermill": {
     "duration": 1.862997,
     "end_time": "2023-12-09T10:03:08.076484",
     "exception": false,
     "start_time": "2023-12-09T10:03:06.213487",
     "status": "completed"
    },
    "tags": []
   },
   "outputs": [],
   "source": [
    "# hub layer \n",
    "hub_layer = hub.KerasLayer(\"https://www.kaggle.com/models/google/mobilenet-v2/frameworks/TensorFlow2/variations/035-128-classification/versions/2\",\n",
    "                   output_shape=(None,5),\n",
    "    trainable = False)"
   ]
  },
  {
   "cell_type": "code",
   "execution_count": 19,
   "id": "7ccd5220",
   "metadata": {
    "execution": {
     "iopub.execute_input": "2023-12-09T10:03:08.097003Z",
     "iopub.status.busy": "2023-12-09T10:03:08.096603Z",
     "iopub.status.idle": "2023-12-09T10:03:09.661135Z",
     "shell.execute_reply": "2023-12-09T10:03:09.660336Z"
    },
    "papermill": {
     "duration": 1.577435,
     "end_time": "2023-12-09T10:03:09.663454",
     "exception": false,
     "start_time": "2023-12-09T10:03:08.086019",
     "status": "completed"
    },
    "tags": []
   },
   "outputs": [],
   "source": [
    "# add a global spatial average pooling layer\n",
    "inputs = keras.Input(shape=(128, 128, 3))\n",
    "x = data_augmentation(inputs)\n",
    "# x = preprocess_input(x)\n",
    "x = hub_layer(inputs)\n",
    "#x = Dense(1024, activation='relu',kernel_regularizer = \"l2\")(x)\n",
    "x = Dense(512, activation='relu',kernel_regularizer = \"l2\")(x)\n",
    "x = Dense(256, activation='relu',kernel_regularizer = \"l2\")(x)\n",
    "x = Dense(128, activation='relu',kernel_regularizer = \"l2\")(x)\n",
    "x = tf.keras.layers.Dropout(0.5)(x)\n",
    "#x = Dense(512, activation='relu',kernel_regularizer = \"l2\")(x)\n",
    "\n",
    "predictions = Dense(5, activation='softmax')(x)"
   ]
  },
  {
   "cell_type": "code",
   "execution_count": 20,
   "id": "d3ef3538",
   "metadata": {
    "execution": {
     "iopub.execute_input": "2023-12-09T10:03:09.687418Z",
     "iopub.status.busy": "2023-12-09T10:03:09.687057Z",
     "iopub.status.idle": "2023-12-09T10:03:09.696290Z",
     "shell.execute_reply": "2023-12-09T10:03:09.695486Z"
    },
    "papermill": {
     "duration": 0.024549,
     "end_time": "2023-12-09T10:03:09.698342",
     "exception": false,
     "start_time": "2023-12-09T10:03:09.673793",
     "status": "completed"
    },
    "tags": []
   },
   "outputs": [],
   "source": [
    "# model \n",
    "model = Model(inputs= inputs, outputs=predictions)"
   ]
  },
  {
   "cell_type": "code",
   "execution_count": 21,
   "id": "5e79cbae",
   "metadata": {
    "execution": {
     "iopub.execute_input": "2023-12-09T10:03:09.718348Z",
     "iopub.status.busy": "2023-12-09T10:03:09.718037Z",
     "iopub.status.idle": "2023-12-09T10:03:09.722303Z",
     "shell.execute_reply": "2023-12-09T10:03:09.721359Z"
    },
    "papermill": {
     "duration": 0.016608,
     "end_time": "2023-12-09T10:03:09.724258",
     "exception": false,
     "start_time": "2023-12-09T10:03:09.707650",
     "status": "completed"
    },
    "tags": []
   },
   "outputs": [],
   "source": [
    "#model.summary()"
   ]
  },
  {
   "cell_type": "code",
   "execution_count": 22,
   "id": "df338801",
   "metadata": {
    "execution": {
     "iopub.execute_input": "2023-12-09T10:03:09.743872Z",
     "iopub.status.busy": "2023-12-09T10:03:09.743383Z",
     "iopub.status.idle": "2023-12-09T10:03:09.761132Z",
     "shell.execute_reply": "2023-12-09T10:03:09.760385Z"
    },
    "papermill": {
     "duration": 0.02963,
     "end_time": "2023-12-09T10:03:09.763084",
     "exception": false,
     "start_time": "2023-12-09T10:03:09.733454",
     "status": "completed"
    },
    "tags": []
   },
   "outputs": [],
   "source": [
    "model.compile(optimizer = 'Adam',\n",
    "                  loss = tf.keras.losses.SparseCategoricalCrossentropy(),\n",
    "                  metrics = \"Accuracy\")"
   ]
  },
  {
   "cell_type": "code",
   "execution_count": 23,
   "id": "afa9f465",
   "metadata": {
    "execution": {
     "iopub.execute_input": "2023-12-09T10:03:09.782972Z",
     "iopub.status.busy": "2023-12-09T10:03:09.782649Z",
     "iopub.status.idle": "2023-12-09T10:03:09.788731Z",
     "shell.execute_reply": "2023-12-09T10:03:09.787796Z"
    },
    "papermill": {
     "duration": 0.018191,
     "end_time": "2023-12-09T10:03:09.790690",
     "exception": false,
     "start_time": "2023-12-09T10:03:09.772499",
     "status": "completed"
    },
    "tags": []
   },
   "outputs": [
    {
     "name": "stdout",
     "output_type": "stream",
     "text": [
      "num batches : 13\n"
     ]
    }
   ],
   "source": [
    "train_batches = train_dataset.cardinality().numpy()\n",
    "val_batches = validation_dataset.cardinality().numpy()\n",
    "\n",
    "print(f\"num batches : {train_batches}\")"
   ]
  },
  {
   "cell_type": "code",
   "execution_count": 24,
   "id": "0d7d5833",
   "metadata": {
    "execution": {
     "iopub.execute_input": "2023-12-09T10:03:09.862818Z",
     "iopub.status.busy": "2023-12-09T10:03:09.862459Z",
     "iopub.status.idle": "2023-12-09T10:03:09.899630Z",
     "shell.execute_reply": "2023-12-09T10:03:09.898701Z"
    },
    "papermill": {
     "duration": 0.101974,
     "end_time": "2023-12-09T10:03:09.901846",
     "exception": false,
     "start_time": "2023-12-09T10:03:09.799872",
     "status": "completed"
    },
    "tags": []
   },
   "outputs": [
    {
     "data": {
      "text/plain": [
       "{0: 0.48, 1: 2.29, 2: 0.87, 3: 1.09, 4: 2.34}"
      ]
     },
     "execution_count": 24,
     "metadata": {},
     "output_type": "execute_result"
    }
   ],
   "source": [
    "# create class weights\n",
    "weights = skl.utils.class_weight.compute_class_weight('balanced',\n",
    "                                                      classes = labels,\n",
    "                                                    #    y=[class_names[id] for id in labels_train.numpy()] )\n",
    "                                                       y= labels_list\n",
    "                                                    )\n",
    "class_weights = {i: round(weights[i],2) for i in range(5) }\n",
    "class_weights\n"
   ]
  },
  {
   "cell_type": "markdown",
   "id": "8e58ed52",
   "metadata": {
    "papermill": {
     "duration": 0.009788,
     "end_time": "2023-12-09T10:03:09.921477",
     "exception": false,
     "start_time": "2023-12-09T10:03:09.911689",
     "status": "completed"
    },
    "tags": []
   },
   "source": [
    "==="
   ]
  },
  {
   "cell_type": "code",
   "execution_count": 25,
   "id": "5b486506",
   "metadata": {
    "execution": {
     "iopub.execute_input": "2023-12-09T10:03:09.942941Z",
     "iopub.status.busy": "2023-12-09T10:03:09.942562Z",
     "iopub.status.idle": "2023-12-09T10:08:31.316712Z",
     "shell.execute_reply": "2023-12-09T10:08:31.315729Z"
    },
    "papermill": {
     "duration": 321.387168,
     "end_time": "2023-12-09T10:08:31.318924",
     "exception": false,
     "start_time": "2023-12-09T10:03:09.931756",
     "status": "completed"
    },
    "tags": []
   },
   "outputs": [
    {
     "name": "stdout",
     "output_type": "stream",
     "text": [
      "Epoch 1/10\n",
      "13/13 [==============================] - 37s 602ms/step - loss: 11.0678 - Accuracy: 0.9294 - val_loss: 9.4864 - val_Accuracy: 1.0000\n",
      "Epoch 2/10\n",
      "13/13 [==============================] - 30s 1s/step - loss: 8.3553 - Accuracy: 1.0000 - val_loss: 7.0983 - val_Accuracy: 1.0000\n",
      "Epoch 3/10\n",
      "13/13 [==============================] - 30s 1s/step - loss: 6.2195 - Accuracy: 1.0000 - val_loss: 5.2763 - val_Accuracy: 1.0000\n",
      "Epoch 4/10\n",
      "13/13 [==============================] - 30s 1s/step - loss: 4.6449 - Accuracy: 1.0000 - val_loss: 3.9746 - val_Accuracy: 1.0000\n",
      "Epoch 5/10\n",
      "13/13 [==============================] - 34s 2s/step - loss: 3.5301 - Accuracy: 1.0000 - val_loss: 3.0581 - val_Accuracy: 1.0000\n",
      "Epoch 6/10\n",
      "13/13 [==============================] - 30s 1s/step - loss: 2.7429 - Accuracy: 1.0000 - val_loss: 2.4060 - val_Accuracy: 1.0000\n",
      "Epoch 7/10\n",
      "13/13 [==============================] - 30s 1s/step - loss: 2.1776 - Accuracy: 1.0000 - val_loss: 1.9315 - val_Accuracy: 1.0000\n",
      "Epoch 8/10\n",
      "13/13 [==============================] - 30s 1s/step - loss: 1.7619 - Accuracy: 1.0000 - val_loss: 1.5774 - val_Accuracy: 1.0000\n",
      "Epoch 9/10\n",
      "13/13 [==============================] - 30s 1s/step - loss: 1.4485 - Accuracy: 1.0000 - val_loss: 1.3069 - val_Accuracy: 1.0000\n",
      "Epoch 10/10\n",
      "13/13 [==============================] - 29s 1s/step - loss: 1.2084 - Accuracy: 1.0000 - val_loss: 1.0965 - val_Accuracy: 1.0000\n"
     ]
    }
   ],
   "source": [
    "history = model.fit(train_dataset,\n",
    "                         validation_data = validation_dataset,\n",
    "                         class_weight = class_weights,\n",
    "                        epochs = 10)"
   ]
  },
  {
   "cell_type": "markdown",
   "id": "0d635c78",
   "metadata": {
    "papermill": {
     "duration": 0.019101,
     "end_time": "2023-12-09T10:08:31.355589",
     "exception": false,
     "start_time": "2023-12-09T10:08:31.336488",
     "status": "completed"
    },
    "tags": []
   },
   "source": [
    "==="
   ]
  },
  {
   "cell_type": "code",
   "execution_count": 26,
   "id": "6a1dd3e1",
   "metadata": {
    "execution": {
     "iopub.execute_input": "2023-12-09T10:08:31.401698Z",
     "iopub.status.busy": "2023-12-09T10:08:31.400766Z",
     "iopub.status.idle": "2023-12-09T10:08:31.919046Z",
     "shell.execute_reply": "2023-12-09T10:08:31.917922Z"
    },
    "papermill": {
     "duration": 0.543011,
     "end_time": "2023-12-09T10:08:31.921385",
     "exception": false,
     "start_time": "2023-12-09T10:08:31.378374",
     "status": "completed"
    },
    "tags": []
   },
   "outputs": [
    {
     "data": {
      "image/png": "[encoded data removed]",
      "text/plain": [
       "<Figure size 1000x400 with 2 Axes>"
      ]
     },
     "metadata": {},
     "output_type": "display_data"
    }
   ],
   "source": [
    "# plot training and validation metrics\n",
    "import matplotlib.pyplot as plt\n",
    "acc = history.history['Accuracy']\n",
    "val_acc = history.history['val_Accuracy']\n",
    "\n",
    "loss = history.history['loss']\n",
    "val_loss = history.history['val_loss']\n",
    "\n",
    "plt.figure(figsize=(10, 4))\n",
    "plt.subplot(1, 2, 1)\n",
    "plt.plot(acc, label='Training Accuracy')\n",
    "plt.plot(val_acc, label='Validation Accuracy')\n",
    "plt.legend(loc='upper right')\n",
    "plt.ylabel('Accuracy')\n",
    "plt.ylim([min(plt.ylim()),1])\n",
    "plt.title('Training and Validation Accuracy')\n",
    "\n",
    "plt.subplot(1, 2, 2)\n",
    "plt.plot(loss, label='Training Loss')\n",
    "plt.plot(val_loss, label='Validation Loss')\n",
    "plt.legend(loc='upper right')\n",
    "plt.ylabel('Cross Entropy')\n",
    "# plt.ylim([0,4])\n",
    "plt.title('Training and Validation Loss')\n",
    "plt.xlabel('epoch')\n",
    "plt.show()"
   ]
  }
 ],
 "metadata": {
  "kaggle": {
   "accelerator": "gpu",
   "dataSources": [
    {
     "databundleVersionId": 6924515,
     "sourceId": 45867,
     "sourceType": "competition"
    },
    {
     "sourceId": 146982497,
     "sourceType": "kernelVersion"
    },
    {
     "isSourceIdPinned": true,
     "modelInstanceId": 2508,
     "sourceId": 3404,
     "sourceType": "modelInstanceVersion"
    }
   ],
   "dockerImageVersionId": 30559,
   "isGpuEnabled": true,
   "isInternetEnabled": false,
   "language": "python",
   "sourceType": "notebook"
  },
  "kernelspec": {
   "display_name": "Python 3",
   "language": "python",
   "name": "python3"
  },
  "language_info": {
   "codemirror_mode": {
    "name": "ipython",
    "version": 3
   },
   "file_extension": ".py",
   "mimetype": "text/x-python",
   "name": "python",
   "nbconvert_exporter": "python",
   "pygments_lexer": "ipython3",
   "version": "3.10.12"
  },
  "papermill": {
   "default_parameters": {},
   "duration": 426.831012,
   "end_time": "2023-12-09T10:08:35.819742",
   "environment_variables": {},
   "exception": null,
   "input_path": "__notebook__.ipynb",
   "output_path": "__notebook__.ipynb",
   "parameters": {},
   "start_time": "2023-12-09T10:01:28.988730",
   "version": "2.4.0"
  }
 },
 "nbformat": 4,
 "nbformat_minor": 5
}
